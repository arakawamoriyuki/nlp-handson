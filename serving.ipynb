{
 "cells": [
  {
   "cell_type": "code",
   "execution_count": 1,
   "metadata": {},
   "outputs": [],
   "source": [
    "!cp /usr/local/lib/python3.6/site-packages/tf_sentencepiece/_sentencepiece_processor_ops.so.$(python -c 'import tensorflow as tf; print(tf.__version__)') ./sentencepiece_processor_ops.so"
   ]
  },
  {
   "cell_type": "code",
   "execution_count": 2,
   "metadata": {},
   "outputs": [
    {
     "name": "stdout",
     "output_type": "stream",
     "text": [
      "Dockerfile    main.ipynb  requirements.txt\r\n",
      "client.ipynb  models\t  sentencepiece_processor_ops.so\r\n",
      "logs\t      readme.md   serving.ipynb\r\n"
     ]
    }
   ],
   "source": [
    "!ls"
   ]
  },
  {
   "cell_type": "code",
   "execution_count": null,
   "metadata": {},
   "outputs": [
    {
     "name": "stdout",
     "output_type": "stream",
     "text": [
      "2019-06-05 19:24:11 INFO     bind: 0.0.0.0:8500\n",
      "2019-06-05 19:24:11 INFO     host: 0.0.0.0\n",
      "2019-06-05 19:24:11 INFO     port: 8500\n",
      "2019-06-05 19:24:11 INFO     enable_ssl: False\n",
      "2019-06-05 19:24:11 INFO     secret_pem: secret.pem\n",
      "2019-06-05 19:24:11 INFO     secret_key: secret.key\n",
      "2019-06-05 19:24:11 INFO     model_name: default\n",
      "2019-06-05 19:24:11 INFO     model_base_path: ./models/serving\n",
      "2019-06-05 19:24:11 INFO     model_platform: tensorflow\n",
      "2019-06-05 19:24:11 INFO     model_config_file: \n",
      "2019-06-05 19:24:11 INFO     reload_models: False\n",
      "2019-06-05 19:24:11 INFO     custom_op_paths: ./\n",
      "2019-06-05 19:24:11 INFO     session_config: {}\n",
      "2019-06-05 19:24:11 INFO     debug: False\n",
      "2019-06-05 19:24:11 INFO     log_level: info\n",
      "2019-06-05 19:24:11 INFO     gen_client: \n",
      "2019-06-05 19:24:11 INFO     enable_auth: False\n",
      "2019-06-05 19:24:11 INFO     auth_username: admin\n",
      "2019-06-05 19:24:11 INFO     auth_password: admin\n",
      "2019-06-05 19:24:11 INFO     enable_colored_log: False\n",
      "2019-06-05 19:24:11 INFO     enable_cors: True\n",
      "2019-06-05 19:24:11 INFO     download_inference_images: True\n",
      "Create path to host static files: static\n",
      "2019-06-05 19:24:11 INFO     Load the so file from: ./sentencepiece_processor_ops.so\n",
      "2019-06-05 19:24:11.787870: I tensorflow/core/platform/cpu_feature_guard.cc:141] Your CPU supports instructions that this TensorFlow binary was not compiled to use: AVX2 FMA\n",
      "2019-06-05 19:24:11 INFO     Put the model version: 1 online, path: ./models/serving/1\n",
      "INFO:tensorflow:Restoring parameters from ./models/serving/1/variables/variables\n",
      "2019-06-05 19:24:23 INFO     Restoring parameters from ./models/serving/1/variables/variables\n",
      " * Serving Flask app \"simple_tensorflow_serving.server\" (lazy loading)\n",
      " * Environment: production\n",
      "\u001b[31m   WARNING: This is a development server. Do not use it in a production deployment.\u001b[0m\n",
      "\u001b[2m   Use a production WSGI server instead.\u001b[0m\n",
      " * Debug mode: off\n",
      "2019-06-05 19:24:27 INFO      * Running on http://0.0.0.0:8500/ (Press CTRL+C to quit)\n",
      "2019-06-05 19:24:55 INFO     172.17.0.1 - - [05/Jun/2019 19:24:55] \"\u001b[37mGET / HTTP/1.1\u001b[0m\" 200 -\n",
      "2019-06-05 19:24:55 INFO     172.17.0.1 - - [05/Jun/2019 19:24:55] \"\u001b[37mGET /static/bootstrap-4.0.0-dist/css/bootstrap.min.css HTTP/1.1\u001b[0m\" 200 -\n",
      "2019-06-05 19:24:55 INFO     172.17.0.1 - - [05/Jun/2019 19:24:55] \"\u001b[37mGET /static/jquery/dist/jquery.min.js HTTP/1.1\u001b[0m\" 200 -\n",
      "2019-06-05 19:24:55 INFO     172.17.0.1 - - [05/Jun/2019 19:24:55] \"\u001b[37mGET /static/images/logo.png HTTP/1.1\u001b[0m\" 200 -\n",
      "2019-06-05 19:24:55 INFO     172.17.0.1 - - [05/Jun/2019 19:24:55] \"\u001b[37mGET /static/bootstrap-4.0.0-dist/js/bootstrap.min.js HTTP/1.1\u001b[0m\" 200 -\n",
      "2019-06-05 19:24:55 INFO     172.17.0.1 - - [05/Jun/2019 19:24:55] \"\u001b[37mGET /static/images/favicon.ico HTTP/1.1\u001b[0m\" 200 -\n",
      "2019-06-05 19:25:50 INFO     127.0.0.1 - - [05/Jun/2019 19:25:50] \"\u001b[37mPOST / HTTP/1.1\u001b[0m\" 200 -\n"
     ]
    }
   ],
   "source": [
    "!simple_tensorflow_serving --model_base_path=./models/serving --custom_op_paths=./"
   ]
  },
  {
   "cell_type": "code",
   "execution_count": null,
   "metadata": {},
   "outputs": [],
   "source": []
  }
 ],
 "metadata": {
  "kernelspec": {
   "display_name": "Python 3",
   "language": "python",
   "name": "python3"
  },
  "language_info": {
   "codemirror_mode": {
    "name": "ipython",
    "version": 3
   },
   "file_extension": ".py",
   "mimetype": "text/x-python",
   "name": "python",
   "nbconvert_exporter": "python",
   "pygments_lexer": "ipython3",
   "version": "3.6.7"
  }
 },
 "nbformat": 4,
 "nbformat_minor": 2
}
