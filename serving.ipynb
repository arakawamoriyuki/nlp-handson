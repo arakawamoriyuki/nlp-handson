{
 "cells": [
  {
   "cell_type": "markdown",
   "metadata": {},
   "source": [
    "protocol buffers形式で保存するとtensorflow servingを利用して REST API や grpc で通信可能なAPIを作る事ができます。\n",
    "\n",
    "[Serving Models](https://www.tensorflow.org/tfx/guide/serving)\n",
    "\n",
    "が、少し壁があり\n",
    "\n",
    "universal-sentence-encoderは内部でtf_sentencepieceを利用しており、文字列を数値化するカスタムオペレーションに依存しています。それはtf_sentencepieceの `sentencepiece_processor_ops.so` をtensorflowで読み込む必要があります。\n",
    "\n",
    "普通の(kerasやtensorflowだけの)モデルは問題ないのですが、依存があると動きません。\n",
    "\n",
    "その為、現状[simple_tensorflow_serving](https://github.com/tobegit3hub/simple_tensorflow_serving)というtensorflow servingのラッパーを利用してカスタムオペレーションを注入します。"
   ]
  },
  {
   "cell_type": "code",
   "execution_count": 1,
   "metadata": {},
   "outputs": [],
   "source": [
    "!cp /usr/local/lib/python3.6/site-packages/tf_sentencepiece/_sentencepiece_processor_ops.so.$(python -c 'import tensorflow as tf; print(tf.__version__)') ./sentencepiece_processor_ops.so"
   ]
  },
  {
   "cell_type": "code",
   "execution_count": 2,
   "metadata": {},
   "outputs": [
    {
     "name": "stdout",
     "output_type": "stream",
     "text": [
      "Dockerfile\t       logs\t\t sentencepiece_processor_ops.so\r\n",
      "client.ipynb\t       main.ipynb\t serving.ipynb\r\n",
      "datasets.csv\t       models\t\t static\r\n",
      "datasets_qabot_v2.csv  readme.md\r\n",
      "datasets_qabot_v3.csv  requirements.txt\r\n"
     ]
    }
   ],
   "source": [
    "!ls"
   ]
  },
  {
   "cell_type": "code",
   "execution_count": null,
   "metadata": {
    "scrolled": true
   },
   "outputs": [
    {
     "name": "stdout",
     "output_type": "stream",
     "text": [
      "2019-06-05 23:30:57 INFO     bind: 0.0.0.0:8500\n",
      "2019-06-05 23:30:57 INFO     host: 0.0.0.0\n",
      "2019-06-05 23:30:57 INFO     port: 8500\n",
      "2019-06-05 23:30:57 INFO     enable_ssl: False\n",
      "2019-06-05 23:30:57 INFO     secret_pem: secret.pem\n",
      "2019-06-05 23:30:57 INFO     secret_key: secret.key\n",
      "2019-06-05 23:30:57 INFO     model_name: default\n",
      "2019-06-05 23:30:57 INFO     model_base_path: ./models/serving\n",
      "2019-06-05 23:30:57 INFO     model_platform: tensorflow\n",
      "2019-06-05 23:30:57 INFO     model_config_file: \n",
      "2019-06-05 23:30:57 INFO     reload_models: False\n",
      "2019-06-05 23:30:57 INFO     custom_op_paths: ./\n",
      "2019-06-05 23:30:57 INFO     session_config: {}\n",
      "2019-06-05 23:30:57 INFO     debug: False\n",
      "2019-06-05 23:30:57 INFO     log_level: info\n",
      "2019-06-05 23:30:57 INFO     gen_client: \n",
      "2019-06-05 23:30:57 INFO     enable_auth: False\n",
      "2019-06-05 23:30:57 INFO     auth_username: admin\n",
      "2019-06-05 23:30:57 INFO     auth_password: admin\n",
      "2019-06-05 23:30:57 INFO     enable_colored_log: False\n",
      "2019-06-05 23:30:57 INFO     enable_cors: True\n",
      "2019-06-05 23:30:57 INFO     download_inference_images: True\n",
      "2019-06-05 23:30:57 INFO     Load the so file from: ./sentencepiece_processor_ops.so\n",
      "2019-06-05 23:30:57.170110: I tensorflow/core/platform/cpu_feature_guard.cc:141] Your CPU supports instructions that this TensorFlow binary was not compiled to use: AVX2 FMA\n",
      "2019-06-05 23:30:57 INFO     Put the model version: 1 online, path: ./models/serving/1\n"
     ]
    }
   ],
   "source": [
    "!simple_tensorflow_serving --model_base_path=./models/serving --custom_op_paths=./"
   ]
  },
  {
   "cell_type": "markdown",
   "metadata": {},
   "source": [
    "サーバーが起動したらlocalhost:8500でAPIサーバーと管理画面にアクセスできます。\n",
    "\n",
    "シャットダウンせずclient.ipynbにうつりましょう。"
   ]
  },
  {
   "cell_type": "code",
   "execution_count": null,
   "metadata": {},
   "outputs": [],
   "source": []
  }
 ],
 "metadata": {
  "kernelspec": {
   "display_name": "Python 3",
   "language": "python",
   "name": "python3"
  },
  "language_info": {
   "codemirror_mode": {
    "name": "ipython",
    "version": 3
   },
   "file_extension": ".py",
   "mimetype": "text/x-python",
   "name": "python",
   "nbconvert_exporter": "python",
   "pygments_lexer": "ipython3",
   "version": "3.6.7"
  }
 },
 "nbformat": 4,
 "nbformat_minor": 2
}
