{
 "cells": [
  {
   "cell_type": "code",
   "execution_count": 1,
   "metadata": {},
   "outputs": [],
   "source": [
    "import requests\n",
    "import csv"
   ]
  },
  {
   "cell_type": "code",
   "execution_count": 2,
   "metadata": {},
   "outputs": [],
   "source": [
    "sentense = '風邪ひいた'"
   ]
  },
  {
   "cell_type": "code",
   "execution_count": 3,
   "metadata": {},
   "outputs": [],
   "source": [
    "endpoint = 'http://localhost:8500'\n",
    "json_data = {'model_name': 'default', 'data': {'inputs': [[sentense]]} }\n",
    "response = requests.post(endpoint, json=json_data)"
   ]
  },
  {
   "cell_type": "code",
   "execution_count": 4,
   "metadata": {},
   "outputs": [],
   "source": [
    "json = response.json()"
   ]
  },
  {
   "cell_type": "code",
   "execution_count": 5,
   "metadata": {},
   "outputs": [
    {
     "data": {
      "text/plain": [
       "{'dense_3/Softmax:0': [[0.0013341640587896109,\n",
       "   0.0039117829874157906,\n",
       "   0.00376495230011642,\n",
       "   0.0028302697464823723,\n",
       "   6.063872933737002e-05,\n",
       "   0.9790213108062744,\n",
       "   0.009076854214072227]]}"
      ]
     },
     "execution_count": 5,
     "metadata": {},
     "output_type": "execute_result"
    }
   ],
   "source": [
    "json"
   ]
  },
  {
   "cell_type": "code",
   "execution_count": 6,
   "metadata": {},
   "outputs": [],
   "source": [
    "result = json['dense_3/Softmax:0'][0]"
   ]
  },
  {
   "cell_type": "code",
   "execution_count": 7,
   "metadata": {},
   "outputs": [],
   "source": [
    "csv_path = './datasets.csv'\n",
    "labels = []\n",
    "with open(csv_path, 'r') as f:\n",
    "    reader = csv.reader(f)\n",
    "    for index, row in enumerate(reader):\n",
    "        # 先頭をlabelとする\n",
    "        labels.append(row[0])"
   ]
  },
  {
   "cell_type": "code",
   "execution_count": 8,
   "metadata": {},
   "outputs": [
    {
     "name": "stdout",
     "output_type": "stream",
     "text": [
      "97.90%:病院\n",
      "0.91%:ガゾリンスタンド\n",
      "0.39%:スーパー\n"
     ]
    }
   ],
   "source": [
    "indexes = list(range(len(labels)))\n",
    "predictions = dict(zip(indexes, result))\n",
    "predictions = sorted(predictions.items(), key=lambda x: x[1], reverse=True)\n",
    "predictions = predictions[0:3]\n",
    "for prediction in predictions:\n",
    "    label = labels[prediction[0]]\n",
    "    score = '{:.2%}'.format(prediction[1])\n",
    "    print('{}:{}'.format(score, label))"
   ]
  },
  {
   "cell_type": "code",
   "execution_count": null,
   "metadata": {},
   "outputs": [],
   "source": []
  }
 ],
 "metadata": {
  "kernelspec": {
   "display_name": "Python 3",
   "language": "python",
   "name": "python3"
  },
  "language_info": {
   "codemirror_mode": {
    "name": "ipython",
    "version": 3
   },
   "file_extension": ".py",
   "mimetype": "text/x-python",
   "name": "python",
   "nbconvert_exporter": "python",
   "pygments_lexer": "ipython3",
   "version": "3.6.7"
  }
 },
 "nbformat": 4,
 "nbformat_minor": 2
}
